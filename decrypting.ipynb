{
 "cells": [
  {
   "cell_type": "markdown",
   "id": "b0546a3a",
   "metadata": {},
   "source": [
    "## Takes files from for_decryption folder and stores decrypted text and key"
   ]
  },
  {
   "cell_type": "code",
   "execution_count": null,
   "id": "125d3bfc",
   "metadata": {},
   "outputs": [
    {
     "name": "stdout",
     "output_type": "stream",
     "text": [
      "Zpracován soubor: text_1000_sample_20_ciphertext.txt\n"
     ]
    }
   ],
   "source": [
    "import numpy as np\n",
    "# -*- coding: utf-8 -*-\n",
    "import metropolis\n",
    "import pandas as pd\n",
    "from decrypt import decrypt\n",
    "import os\n",
    "import re\n",
    "\n",
    "\n",
    "input_dir = \"./data/for_decryption\"\n",
    "pattern = re.compile(r\"^(text_\\d+_sample_\\d+)_ciphertext\\.txt$\")\n",
    "\n",
    "for filename in os.listdir(input_dir):\n",
    "    match = pattern.match(filename)\n",
    "\n",
    "    base_name = match.group(1)\n",
    "    input_path = os.path.join(input_dir, filename)\n",
    "\n",
    "    with open(input_path, \"r\", encoding=\"utf-8\") as f:\n",
    "        encrypted_text = f.read()\n",
    "    # Load reference bigram matrix (must be created via bigram.py first!)\n",
    "    reference_matrix = pd.read_csv('relativni_bigramova_matice.csv', index_col=0).values\n",
    "    reference_matrix += 1e-10\n",
    "    # Run Metropolis-Hastings on the encrypted sample\n",
    "    best_key, score_history = metropolis.metropolis_hastings(\n",
    "        ciphertext=encrypted_text,\n",
    "        reference_matrix=reference_matrix,\n",
    "        iterations=20000\n",
    ")\n",
    "    result = decrypt(encrypted_text, best_key)\n",
    "\n",
    "    # Uložení výsledků\n",
    "    with open(os.path.join(\"./data/decrypted_text\", f\"{base_name}_plaintext.txt\"), \"w\", encoding=\"utf-8\") as f_text:\n",
    "            f_text.write(result)\n",
    "\n",
    "    with open(os.path.join(\"./data/keys\", f\"{base_name}_key.txt\"), \"w\", encoding=\"utf-8\") as f_key:\n",
    "            f_key.write(best_key)\n",
    "\n",
    "    print(f\"Loaded file: {filename}\")"
   ]
  },
  {
   "cell_type": "code",
   "execution_count": null,
   "id": "0004d97c",
   "metadata": {},
   "outputs": [],
   "source": []
  }
 ],
 "metadata": {
  "kernelspec": {
   "display_name": ".venv",
   "language": "python",
   "name": "python3"
  },
  "language_info": {
   "codemirror_mode": {
    "name": "ipython",
    "version": 3
   },
   "file_extension": ".py",
   "mimetype": "text/x-python",
   "name": "python",
   "nbconvert_exporter": "python",
   "pygments_lexer": "ipython3",
   "version": "3.13.3"
  }
 },
 "nbformat": 4,
 "nbformat_minor": 5
}
