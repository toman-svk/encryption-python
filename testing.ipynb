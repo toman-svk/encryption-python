{
 "cells": [
  {
   "cell_type": "code",
   "execution_count": null,
   "id": "2f056d4e",
   "metadata": {},
   "outputs": [
    {
     "name": "stdout",
     "output_type": "stream",
     "text": [
      "Original text: KAREL_ČAPEK_KRAKATIT__\fI._S_VEČEREM_ZHOUSTLA_MLHA_SYCHRAVÉHO_DNE._JE_TI,_JAKO_BY_SES_PROTLAČOVAL_ŘÍDKOU_VLHKOU_HMOTOU,_JEŽ_SE_ZA_TEBOU_NEODVRATNĚ_ZAVÍRÁ._CHTĚL_BYS_BÝT_DOMA._DOMA,_U_SVÉ_LAMPY,_V_KRABICI_ČTYŘ_STĚN._NIKDY_SES_NECÍTIL_TAK_OPUŠTĚN._PROKOP_SI_RAZÍ_CESTU_PO_NÁBŘEŽÍ._MRAZÍ_HO_A_ČELO_MÁ_ZVLHLÉ_POTEM_SLABOSTI;_CHTĚL_BY_SI_SEDNOUT_TADY_NA_TÉ_MOKRÉ_LAVIČCE,_ALE_BOJÍ_SE_STRÁŽNÍKŮ._ZDÁ_SE_MU,_ŽE_SE_MOTÁ;_ANO,_U_STAROMĚSTSKÝCH_MLÝNŮ_SE_MU_NĚKDO_VYHNUL_OBLOUKEM_JAKO_OPILÉMU._NYNÍ_TEDY_VYNAKLÁD\n",
      "Encrypted text: AQJTSMČQGTAMAJQAQLOLMM\fO.MKMXTČTJTDMNIFZKLSQMDSIQMKBEIJQXÉIFMR_T.MPTMLO,MPQAFMWBMKTKMGJFLSQČFXQSMŘÍRAFZMXSIAFZMIDFLFZ,MPTŽMKTMNQMLTWFZM_TFRXJQL_ĚMNQXÍJÁ.MEILĚSMWBKMWÝLMRFDQ.MRFDQ,MZMKXÉMSQDGB,MXMAJQWOEOMČLBŘMKLĚ_.M_OARBMKTKM_TEÍLOSMLQAMFGZŠLĚ_.MGJFAFGMKOMJQNÍMETKLZMGFM_ÁWŘTŽÍ.MDJQNÍMIFMQMČTSFMDÁMNXSISÉMGFLTDMKSQWFKLO;MEILĚSMWBMKOMKTR_FZLMLQRBM_QMLÉMDFAJÉMSQXOČET,MQSTMWFPÍMKTMKLJÁŽ_ÍAŮ.MNRÁMKTMDZ,MŽTMKTMDFLÁ;MQ_F,MZMKLQJFDĚKLKAÝEIMDSÝ_ŮMKTMDZM_ĚARFMXBI_ZSMFWSFZATDMPQAFMFGOSÉDZ.M_B_ÍMLTRBMXB_QASÁR\n",
      "Decrypted text: KAREL_ČAPEK_KRAKATIT__\fI._S_VEČEREM_ZHOUSTLA_MLHA_SYCHRAVÉHO_DNE._JE_TI,_JAKO_BY_SES_PROTLAČOVAL_ŘÍDKOU_VLHKOU_HMOTOU,_JEŽ_SE_ZA_TEBOU_NEODVRATNĚ_ZAVÍRÁ._CHTĚL_BYS_BÝT_DOMA._DOMA,_U_SVÉ_LAMPY,_V_KRABICI_ČTYŘ_STĚN._NIKDY_SES_NECÍTIL_TAK_OPUŠTĚN._PROKOP_SI_RAZÍ_CESTU_PO_NÁBŘEŽÍ._MRAZÍ_HO_A_ČELO_MÁ_ZVLHLÉ_POTEM_SLABOSTI;_CHTĚL_BY_SI_SEDNOUT_TADY_NA_TÉ_MOKRÉ_LAVIČCE,_ALE_BOJÍ_SE_STRÁŽNÍKŮ._ZDÁ_SE_MU,_ŽE_SE_MOTÁ;_ANO,_U_STAROMĚSTSKÝCH_MLÝNŮ_SE_MU_NĚKDO_VYHNUL_OBLOUKEM_JAKO_OPILÉMU._NYNÍ_TEDY_VYNAKLÁD\n"
     ]
    }
   ],
   "source": [
    "import encrypt\n",
    "import decrypt\n",
    "import re\n",
    "with open('./data/krakatit.txt', 'r', encoding='utf-8') as file:\n",
    "    text = file.read()\n",
    "    text = text.replace(' ', '_').replace('\\n', '_').upper()  # Replace spaces and newlines with underscores\n",
    "text = re.sub(r'[^A-ZÁČĎÉĚÍŇÓŘŠŤÚŮÝŽ_]', '', text)  # Allow underscores\n",
    "\n",
    "key = \"QWERTYUIOPASD_FGHJKLZXCVBNM\"\n",
    "# Show a sample of the text and its encryption\n",
    "sample = text[:500]  # Take first x characters as a sample\n",
    "print('Original text:', sample)\n",
    "encrypted = encrypt.encrypt(sample, key)\n",
    "# Show the encrypted text\n",
    "print('Encrypted text:', encrypted)\n",
    "# Decrypt the encrypted text\n",
    "decrypted = decrypt.decrypt(encrypted, key)\n",
    "print('Decrypted text:', decrypted)"
   ]
  },
  {
   "cell_type": "code",
   "execution_count": 3,
   "id": "32a8f7e7",
   "metadata": {},
   "outputs": [
    {
     "name": "stdout",
     "output_type": "stream",
     "text": [
      "Absolutní a relativní bigramové matice byly úspěšně vytvořeny a uloženy.\n"
     ]
    }
   ],
   "source": [
    "import bigram"
   ]
  },
  {
   "cell_type": "code",
   "execution_count": null,
   "id": "76c3aa81",
   "metadata": {},
   "outputs": [],
   "source": []
  },
  {
   "cell_type": "code",
   "execution_count": null,
   "id": "fbabcb6d",
   "metadata": {},
   "outputs": [],
   "source": []
  },
  {
   "cell_type": "code",
   "execution_count": null,
   "id": "81124b08",
   "metadata": {},
   "outputs": [],
   "source": []
  },
  {
   "cell_type": "code",
   "execution_count": null,
   "id": "ceba812f",
   "metadata": {},
   "outputs": [],
   "source": []
  },
  {
   "cell_type": "code",
   "execution_count": null,
   "id": "8e01f5fc",
   "metadata": {},
   "outputs": [],
   "source": []
  }
 ],
 "metadata": {
  "kernelspec": {
   "display_name": ".venv",
   "language": "python",
   "name": "python3"
  },
  "language_info": {
   "codemirror_mode": {
    "name": "ipython",
    "version": 3
   },
   "file_extension": ".py",
   "mimetype": "text/x-python",
   "name": "python",
   "nbconvert_exporter": "python",
   "pygments_lexer": "ipython3",
   "version": "3.13.3"
  }
 },
 "nbformat": 4,
 "nbformat_minor": 5
}
